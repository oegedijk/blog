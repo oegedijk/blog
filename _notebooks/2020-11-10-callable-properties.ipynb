{
 "cells": [
  {
   "cell_type": "markdown",
   "metadata": {},
   "source": [
    "# Callable properties in python\n",
    "> How to make python @property behave like a method\n",
    "\n",
    "- toc: true\n",
    "- badges: true\n",
    "- comments: true\n",
    "- categories: [python]\n",
    "- hide: false\n",
    "<!-- - image: images/chart-preview.png -->"
   ]
  },
  {
   "cell_type": "markdown",
   "metadata": {},
   "source": [
    "# Why callable properties?\n",
    "\n",
    "First of all: you probably should not use callable properties if you can somehow avoid it :)\n",
    "\n",
    "The two main reasons to use callable properties in python that I see are the following:\n",
    "\n",
    "1. Playing around with the dynamic nature of python for the fun of it\n",
    "2. You had defined `@properties` in your API that later on you realized should have been a `get_` method with a parameter, but you do not want break the old API.\n",
    "\n",
    "(I had a case of no. 2)"
   ]
  },
  {
   "cell_type": "markdown",
   "metadata": {},
   "source": [
    "# Adding callable indexes to properties"
   ]
  },
  {
   "cell_type": "markdown",
   "metadata": {},
   "source": [
    "Suppose we had built ourselves a nice little class that holds a list of fruit. At any given time only one fruit is the selected fruit, indicated by the index `self.idx`.\n",
    "\n",
    "We use a `@property` to return the current selected fruit from the list:"
   ]
  },
  {
   "cell_type": "code",
   "execution_count": 59,
   "metadata": {
    "ExecuteTime": {
     "end_time": "2020-11-10T15:34:02.079093Z",
     "start_time": "2020-11-10T15:34:02.075515Z"
    }
   },
   "outputs": [],
   "source": [
    "class FruitList:\n",
    "    def __init__(self, fruits, idx=0):\n",
    "        self.fruits = fruits\n",
    "        self.idx = idx\n",
    "        \n",
    "    @property\n",
    "    def selected_fruit(self):\n",
    "        return self.fruits[self.idx]"
   ]
  },
  {
   "cell_type": "code",
   "execution_count": 60,
   "metadata": {
    "ExecuteTime": {
     "end_time": "2020-11-10T15:34:02.216946Z",
     "start_time": "2020-11-10T15:34:02.210197Z"
    }
   },
   "outputs": [
    {
     "name": "stdout",
     "output_type": "stream",
     "text": [
      "init idx == 1, fruit =  banana\n",
      "new idx == 2, fruit =  pear\n"
     ]
    }
   ],
   "source": [
    "fl = FruitList(['apple', 'banana', 'pear'], idx=1)\n",
    "print(\"init idx == 1, fruit = \", fl.selected_fruit)\n",
    "fl.idx = 2\n",
    "print(\"new idx == 2, fruit = \", fl.selected_fruit)"
   ]
  },
  {
   "cell_type": "markdown",
   "metadata": {},
   "source": [
    "Your users have been happily using your FruitList class and seem happy with the API, but now a new request comes in: would it be possible to explicitly select a particular fruit by index? \n",
    "\n",
    "You could ofcourse add a method \n",
    "\n",
    "```python\n",
    "def get_selected_fruit(self, index=None): \n",
    "    if index is not None:\n",
    "        return self.fruits[self.index]\n",
    "    else return self.fruits[self.idx]\n",
    "```\n",
    "\n",
    "But now we have duplicate way of getting selected fruit, which makes the API more confusing. You could deprecate the old property, but that might break the API for older users. \n",
    "\n",
    "So what if there would be a way to keep the old API functional, plus add the new functionality by doing one weird python trick?\n",
    "\n"
   ]
  },
  {
   "cell_type": "markdown",
   "metadata": {},
   "source": [
    "## Enter callable default lists"
   ]
  },
  {
   "cell_type": "markdown",
   "metadata": {
    "ExecuteTime": {
     "end_time": "2020-11-10T14:56:14.365827Z",
     "start_time": "2020-11-10T14:56:14.361460Z"
    }
   },
   "source": [
    "We can do this by creating an object that:\n",
    "\n",
    "1. Is equal to a default index element when not called\n",
    "2. Returns the default index oelement when called without parameters\n",
    "3. Returns a specific index element when called with an index parameter\n",
    "\n",
    "If the `@property` would return such an object, then both the old API and new index selector API could be supported by a single `@property`!"
   ]
  },
  {
   "cell_type": "markdown",
   "metadata": {},
   "source": [
    "The trick is creating a new class that is an instance of the default index item (e.g. for `'banana'` the type would be `str`), but also contains the full list of fruit, and has a `__call__` method that returns the right fruit when called with a specific index, and otherwise just returns the default fruit.\n",
    "\n",
    "Or in Python code:"
   ]
  },
  {
   "cell_type": "code",
   "execution_count": 61,
   "metadata": {
    "ExecuteTime": {
     "end_time": "2020-11-10T15:34:03.004627Z",
     "start_time": "2020-11-10T15:34:02.996810Z"
    }
   },
   "outputs": [],
   "source": [
    "from typing import List\n",
    "\n",
    "def make_callable_default_list(source_list:List, default_index:int):\n",
    "    class DefaultList(type(source_list[default_index])):\n",
    "        def __new__(cls, default_value, source_list):\n",
    "            obj = type(source_list[default_index]).__new__(cls, default_value)\n",
    "            return obj\n",
    "\n",
    "        def __init__(self, default_value, source_list):\n",
    "            super().__init__()\n",
    "            self.source_list = source_list\n",
    "            self.default_type = type(default_value)\n",
    "\n",
    "        def __call__(self, index=None):\n",
    "            if index is not None:\n",
    "                return self.source_list[index]\n",
    "            else:\n",
    "                \n",
    "                return self.default_type(self)\n",
    "    \n",
    "    return DefaultList(source_list[default_index], source_list)"
   ]
  },
  {
   "cell_type": "markdown",
   "metadata": {},
   "source": [
    "Now we simply make the property return such a `DefaultList`:"
   ]
  },
  {
   "cell_type": "code",
   "execution_count": 62,
   "metadata": {
    "ExecuteTime": {
     "end_time": "2020-11-10T15:34:03.314098Z",
     "start_time": "2020-11-10T15:34:03.308623Z"
    }
   },
   "outputs": [],
   "source": [
    "class FruitList:\n",
    "    def __init__(self, fruits, idx=0):\n",
    "        self.fruits = fruits\n",
    "        self.idx = idx\n",
    "        \n",
    "    @property\n",
    "    def selected_fruit(self):\n",
    "        return make_callable_default_list(self.fruits, self.idx)"
   ]
  },
  {
   "cell_type": "markdown",
   "metadata": {},
   "source": [
    "When calling `selected_fruit` as an attribute, it still works the same as before for our old users:"
   ]
  },
  {
   "cell_type": "code",
   "execution_count": 63,
   "metadata": {
    "ExecuteTime": {
     "end_time": "2020-11-10T15:34:03.643784Z",
     "start_time": "2020-11-10T15:34:03.637738Z"
    }
   },
   "outputs": [
    {
     "name": "stdout",
     "output_type": "stream",
     "text": [
      "Init self.idx == 1, fruit =  banana\n",
      "Set self.idx = 2, fruit =  pear\n"
     ]
    }
   ],
   "source": [
    "fl = FruitList(['apple', 'banana', 'pear'], idx=1)\n",
    "print(\"Init self.idx == 1, fruit = \", fl.selected_fruit)\n",
    "fl.idx = 2\n",
    "print(\"Set self.idx = 2, fruit = \", fl.selected_fruit)\n"
   ]
  },
  {
   "cell_type": "markdown",
   "metadata": {},
   "source": [
    "But now the property also works as a callable to get the fruit of a specific index for our new users:"
   ]
  },
  {
   "cell_type": "code",
   "execution_count": 64,
   "metadata": {
    "ExecuteTime": {
     "end_time": "2020-11-10T15:34:03.956533Z",
     "start_time": "2020-11-10T15:34:03.950493Z"
    }
   },
   "outputs": [
    {
     "name": "stdout",
     "output_type": "stream",
     "text": [
      "Using callable without index, fruit =  pear\n",
      "Specifying idx = 0, fruit =  apple\n"
     ]
    }
   ],
   "source": [
    "print(\"Using callable without index, fruit = \", fl.selected_fruit())\n",
    "print(\"Specifying idx = 0, fruit = \", fl.selected_fruit(0))"
   ]
  },
  {
   "cell_type": "markdown",
   "metadata": {},
   "source": [
    "### Using pd.DataFrame, pd.Series or np.ndarray as list elements\n",
    "\n",
    "The above should work with most typical python objects, but if you happen to want to return a `pd.DataFrame` or `pd.Series` or a `np.ndarray`, you need to slightly alter the code to get it to work, as these types are special in the way they are initialized. Below however some code that should work for all these types:"
   ]
  },
  {
   "cell_type": "code",
   "execution_count": 65,
   "metadata": {
    "ExecuteTime": {
     "end_time": "2020-11-10T15:34:04.283937Z",
     "start_time": "2020-11-10T15:34:04.265508Z"
    }
   },
   "outputs": [],
   "source": [
    "class DefaultDfList(pd.DataFrame):\n",
    "    \"\"\"\"\n",
    "    You have the set source_list manually!\n",
    "\n",
    "    e.g. \n",
    "\n",
    "    dfl = DefaultDfList(df1)\n",
    "    dfl.source_list = [df1, df2]\n",
    "    \"\"\"\n",
    "    _internal_names = list(pd.DataFrame._internal_names) + ['source_list']\n",
    "    _internal_names_set = set(_internal_names)\n",
    "\n",
    "    def __call__(self, index=None):\n",
    "        if index is not None:\n",
    "            return self.source_list[index]\n",
    "        else:\n",
    "            return pd.DataFrame(self)\n",
    "\n",
    "    @property\n",
    "    def _constructor(self):\n",
    "        return DefaultDfList\n",
    "\n",
    "\n",
    "class DefaultSeriesList(pd.Series):\n",
    "    _internal_names = list(pd.Series._internal_names) + ['source_list']\n",
    "    _internal_names_set = set(_internal_names)\n",
    "\n",
    "    def __call__(self, index=None):\n",
    "        if index is not None:\n",
    "            return self.source_list[index]\n",
    "        else:\n",
    "            return pd.Series(self)\n",
    "\n",
    "    @property\n",
    "    def _constructor(self):\n",
    "        return DefaultSeriesList\n",
    "\n",
    "\n",
    "class DefaultNpArrayList(np.ndarray):\n",
    "    def __new__(cls, default_array, source_list):\n",
    "        obj = np.asarray(default_array).view(cls)\n",
    "        obj.source_list = source_list\n",
    "        return obj\n",
    "\n",
    "    def __array_finalize__(self, obj):\n",
    "        if obj is None: return\n",
    "        self.source_list = getattr(obj, 'source_list', None)\n",
    "        \n",
    "    def __array_wrap__(self, out_arr, context=None):\n",
    "        return np.ndarray.__array_wrap__(self, out_arr, context).view(np.ndarray)\n",
    "\n",
    "    def __call__(self, index=None):\n",
    "        if index is not None:\n",
    "                return self.source_list[index]\n",
    "        return self.view(np.ndarray)\n",
    "\n",
    "\n",
    "def default_list(source_list:List, default_index:int):\n",
    "    \"\"\"\n",
    "    Normally gives the default_index item in a list.\n",
    "    If used as a callable, you can specify a specific index.\n",
    "    \n",
    "    Use to make @property that you can pass optional index parameter to\n",
    "    \"\"\"\n",
    "\n",
    "    if isinstance(source_list[default_index], pd.DataFrame):\n",
    "        df_list = DefaultDfList(source_list[default_index])\n",
    "        df_list.source_list = source_list\n",
    "        return df_list\n",
    "\n",
    "    if isinstance(source_list[default_index], pd.Series):\n",
    "        s_list = DefaultSeriesList(source_list[default_index])\n",
    "        s_list.source_list = source_list\n",
    "        return s_list\n",
    "\n",
    "    if isinstance(source_list[default_index], np.ndarray):\n",
    "        a_list = DefaultNpArrayList(source_list[default_index], source_list)\n",
    "        return a_list\n",
    "\n",
    "    class DefaultList(type(source_list[default_index])):\n",
    "        def __new__(cls, default_value, source_list):\n",
    "            obj = type(source_list[default_index]).__new__(cls, default_value)\n",
    "            return obj\n",
    "\n",
    "        def __init__(self, default_value, source_list):\n",
    "            super().__init__()\n",
    "            self.source_list = source_list\n",
    "            self.default_type = type(default_value)\n",
    "\n",
    "        def __call__(self, index=None):\n",
    "            if index is not None:\n",
    "                return self.source_list[index]\n",
    "            else:\n",
    "                \n",
    "                return self.default_type(self)\n",
    "    \n",
    "    return DefaultList(source_list[default_index], source_list)"
   ]
  },
  {
   "cell_type": "markdown",
   "metadata": {},
   "source": [
    "# Conclusion\n",
    "\n",
    "So there you have a nice example of how the dynamic nature of python allows you to do some pretty crazy things with your API.\n",
    "\n",
    "Whether this is a good idea is ofcourse another question :)"
   ]
  }
 ],
 "metadata": {
  "kernelspec": {
   "display_name": "Python 3",
   "language": "python",
   "name": "python3"
  },
  "language_info": {
   "codemirror_mode": {
    "name": "ipython",
    "version": 3
   },
   "file_extension": ".py",
   "mimetype": "text/x-python",
   "name": "python",
   "nbconvert_exporter": "python",
   "pygments_lexer": "ipython3",
   "version": "3.8.5"
  },
  "toc": {
   "base_numbering": 1,
   "nav_menu": {},
   "number_sections": true,
   "sideBar": true,
   "skip_h1_title": false,
   "title_cell": "Table of Contents",
   "title_sidebar": "Contents",
   "toc_cell": false,
   "toc_position": {},
   "toc_section_display": true,
   "toc_window_display": false
  }
 },
 "nbformat": 4,
 "nbformat_minor": 4
}
