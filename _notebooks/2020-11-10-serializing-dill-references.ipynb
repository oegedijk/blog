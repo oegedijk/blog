{
 "cells": [
  {
   "cell_type": "markdown",
   "metadata": {},
   "source": [
    "# Serializing with dependencies in python\n",
    "> A tutorial on how to hack dill\n",
    "\n",
    "- toc: true \n",
    "- badges: true\n",
    "- comments: true\n",
    "- categories: [pickle, dill, python]\n",
    "- hide: false\n",
    "<!-- - image: images/chart-preview.png -->"
   ]
  },
  {
   "cell_type": "markdown",
   "metadata": {},
   "source": [
    "# Summary:\n",
    "\n",
    "If you wish to store (pickle) python objects into a single pickle file without accompanying modules with class/function definitions, you should:\n",
    "\n",
    "1. Use `dill` instead of `pickle`\n",
    "2. Use some tricks to trick `dill` into believing that imports have actually been defined in `__main__`"
   ]
  },
  {
   "cell_type": "markdown",
   "metadata": {},
   "source": [
    "# Pickling with dependencies"
   ]
  },
  {
   "cell_type": "markdown",
   "metadata": {},
   "source": [
    "When you want to pickle a python object for long term storage, you can run into a problem: pickle does not store object definitions when it pickles. So for example when you build a `class Greeter` and then pickle it and unpickle it at another location, you already need to have `class Greeter` correctly defined before you can load the pickle at the target destination."
   ]
  },
  {
   "cell_type": "code",
   "execution_count": 20,
   "metadata": {
    "ExecuteTime": {
     "end_time": "2020-11-10T12:30:30.348084Z",
     "start_time": "2020-11-10T12:30:30.342083Z"
    }
   },
   "outputs": [],
   "source": [
    "def greeting1():\n",
    "    return \"Booyaa!\"\n",
    "\n",
    "def greeting2():\n",
    "    return \"Howdy!\"\n",
    "\n",
    "class Greeter:\n",
    "    def __init__(self, greetings):\n",
    "        self.greetings = greetings\n",
    "        \n",
    "    def greet(self):\n",
    "        for greet in self.greetings:\n",
    "            print(greet())"
   ]
  },
  {
   "cell_type": "code",
   "execution_count": 21,
   "metadata": {
    "ExecuteTime": {
     "end_time": "2020-11-10T12:30:30.590301Z",
     "start_time": "2020-11-10T12:30:30.585001Z"
    }
   },
   "outputs": [
    {
     "name": "stdout",
     "output_type": "stream",
     "text": [
      "Booyaa!\n",
      "Howdy!\n"
     ]
    }
   ],
   "source": [
    "greeter = Greeter([greeting1, greeting2])\n",
    "greeter.greet()"
   ]
  },
  {
   "cell_type": "code",
   "execution_count": 22,
   "metadata": {
    "ExecuteTime": {
     "end_time": "2020-11-10T12:30:30.830993Z",
     "start_time": "2020-11-10T12:30:30.825802Z"
    }
   },
   "outputs": [],
   "source": [
    "import pickle \n",
    "\n",
    "pickle.dump(greeter, open(\"greeter.pkl\", \"wb\"))"
   ]
  },
  {
   "cell_type": "markdown",
   "metadata": {},
   "source": [
    "If you now try to load the greeter somewhere else, you will get an `AttributeError`:"
   ]
  },
  {
   "cell_type": "markdown",
   "metadata": {},
   "source": [
    "```python\n",
    ">>> import pickle\n",
    ">>> pickle.load(open(\"greeter.pkl\", \"rb\"))\n",
    "Traceback (most recent call last):\n",
    "  File \"<stdin>\", line 1, in <module>\n",
    "AttributeError: Can't get attribute 'Greeter' on <module '__main__' (built-in)>\n",
    "```"
   ]
  },
  {
   "cell_type": "markdown",
   "metadata": {},
   "source": [
    "## solution 1: also store the module with defintions\n",
    "One way around this by storing the class definition of `Greeter` in `greetings.py`, import `Greeter` from `greetings`, and copy `greetings.py` along with `greeter.pkl` to the location where you want to unpickle."
   ]
  },
  {
   "cell_type": "markdown",
   "metadata": {
    "ExecuteTime": {
     "end_time": "2020-11-10T12:21:43.378944Z",
     "start_time": "2020-11-10T12:21:43.375425Z"
    }
   },
   "source": [
    "However, now you have created a **dependency** that you need to manage. You always have to make sure that you have the right version of the right module at hand when you want to unpickle. Especially for long term storage of python objects, this is begging for problems. It would be nicer if you could have the object itself and the definition all in one file!"
   ]
  },
  {
   "cell_type": "markdown",
   "metadata": {},
   "source": [
    "## Solution 2: Dill to the rescue!"
   ]
  },
  {
   "cell_type": "markdown",
   "metadata": {},
   "source": [
    "Luckily there is a stand-in replacement for `pickle` called `dill` that unfortunately does not come with the standard library, so you have to install it yourself: `pip install dill`."
   ]
  },
  {
   "cell_type": "code",
   "execution_count": 23,
   "metadata": {
    "ExecuteTime": {
     "end_time": "2020-11-10T12:30:56.745132Z",
     "start_time": "2020-11-10T12:30:55.993086Z"
    }
   },
   "outputs": [
    {
     "name": "stdout",
     "output_type": "stream",
     "text": [
      "Requirement already satisfied: dill in /Users/oege/projects/blog/venv/lib/python3.8/site-packages (0.3.3)\n",
      "\u001b[33mWARNING: You are using pip version 20.1.1; however, version 20.2.4 is available.\n",
      "You should consider upgrading via the '/Users/oege/projects/blog/venv/bin/python -m pip install --upgrade pip' command.\u001b[0m\n"
     ]
    }
   ],
   "source": [
    "!pip install dill"
   ]
  },
  {
   "cell_type": "markdown",
   "metadata": {},
   "source": [
    "The nice thing about `dill` is that it stores definitions along with the object, as long as they are defined in `__main__`. In our case they are so when we store the greeter instance with dill we can actually reload the object now:"
   ]
  },
  {
   "cell_type": "code",
   "execution_count": 24,
   "metadata": {
    "ExecuteTime": {
     "end_time": "2020-11-10T12:31:04.347584Z",
     "start_time": "2020-11-10T12:31:04.340490Z"
    }
   },
   "outputs": [],
   "source": [
    "import dill\n",
    "dill.dump(greeter, open(\"greeter.pkl\", \"wb\"))"
   ]
  },
  {
   "cell_type": "markdown",
   "metadata": {},
   "source": [
    "```python\n",
    ">>> import dill\n",
    ">>> greeter = dill.load(open(\"greeter.pkl\", \"rb\"))\n",
    ">>> greeter.greet()\n",
    "Booyaa!\n",
    "Howdy!\n",
    "```"
   ]
  },
  {
   "cell_type": "markdown",
   "metadata": {
    "ExecuteTime": {
     "end_time": "2020-11-10T12:31:07.075358Z",
     "start_time": "2020-11-10T12:31:07.068679Z"
    }
   },
   "source": [
    "It worked!"
   ]
  },
  {
   "cell_type": "markdown",
   "metadata": {},
   "source": [
    "### But only stores definitions in `__main__` not in modules"
   ]
  },
  {
   "cell_type": "markdown",
   "metadata": {},
   "source": [
    "Suppose we define `Greeter` in a `greeter.py` module:"
   ]
  },
  {
   "cell_type": "markdown",
   "metadata": {},
   "source": [
    "**greeter.py**:\n",
    "```python\n",
    "def greeting1():\n",
    "    return \"Booyaa!\"\n",
    "\n",
    "def greeting2():\n",
    "    return \"Howdy!\"\n",
    "\n",
    "class Greeter:\n",
    "    def __init__(self, greetings):\n",
    "        self.greetings = greetings\n",
    "        \n",
    "    def greet(self):\n",
    "        for greet in self.greetings:\n",
    "            print(greet())\n",
    "```"
   ]
  },
  {
   "cell_type": "code",
   "execution_count": 2,
   "metadata": {
    "ExecuteTime": {
     "end_time": "2020-11-10T12:35:21.637227Z",
     "start_time": "2020-11-10T12:35:21.619874Z"
    }
   },
   "outputs": [],
   "source": [
    "import dill\n",
    "from greeter import Greeter, greeting1, greeting2\n",
    "\n",
    "g = Greeter([greeting1, greeting2])\n",
    "\n",
    "dill.dump(g, open(\"greeter.pkl\", \"wb\"))"
   ]
  },
  {
   "cell_type": "markdown",
   "metadata": {},
   "source": [
    "Then the pickle again fails to load when `greetings.py` is either missing or misses the right definitions:"
   ]
  },
  {
   "cell_type": "markdown",
   "metadata": {
    "ExecuteTime": {
     "end_time": "2020-11-10T12:36:40.786231Z",
     "start_time": "2020-11-10T12:36:40.778724Z"
    }
   },
   "source": [
    "```python\n",
    ">>> import dill\n",
    ">>> greeter = dill.load(open(\"_notebooks/greeter.pkl\", \"rb\"))\n",
    "Traceback (most recent call last):\n",
    "  File \"<stdin>\", line 1, in <module>\n",
    "  File \"/Users/oege/.pyenv/versions/3.8.5/lib/python3.8/site-packages/dill/_dill.py\", line 278, in load\n",
    "    return Unpickler(file, ignore=ignore, **kwds).load()\n",
    "  File \"/Users/oege/.pyenv/versions/3.8.5/lib/python3.8/site-packages/dill/_dill.py\", line 481, in load\n",
    "    obj = StockUnpickler.load(self)\n",
    "  File \"/Users/oege/.pyenv/versions/3.8.5/lib/python3.8/site-packages/dill/_dill.py\", line 471, in find_class\n",
    "    return StockUnpickler.find_class(self, module, name)\n",
    "ModuleNotFoundError: No module named 'greeter'\n",
    "```"
   ]
  },
  {
   "cell_type": "markdown",
   "metadata": {},
   "source": [
    "## Workaround: move definitions to `__main__`:"
   ]
  },
  {
   "cell_type": "markdown",
   "metadata": {},
   "source": [
    "You can work around this problem by `mainifying` the imported definitions:\n"
   ]
  },
  {
   "cell_type": "code",
   "execution_count": 5,
   "metadata": {
    "ExecuteTime": {
     "end_time": "2020-11-10T12:40:53.755137Z",
     "start_time": "2020-11-10T12:40:53.745505Z"
    }
   },
   "outputs": [
    {
     "name": "stdout",
     "output_type": "stream",
     "text": [
      "__main__ __main__ __main__\n"
     ]
    }
   ],
   "source": [
    "import dill\n",
    "from greeter import Greeter, greeting1, greeting2\n",
    "\n",
    "def mainify(obj):\n",
    "    \"\"\"If obj is not defined in __main__ then redefine it in \n",
    "    main so that dill will serialize the definition along with the object\"\"\"\n",
    "    if obj.__module__ != \"__main__\":\n",
    "        import __main__\n",
    "        import inspect\n",
    "        s = inspect.getsource(obj)\n",
    "        co = compile(s, '<string>', 'exec')\n",
    "        exec(co, __main__.__dict__)\n",
    "           \n",
    "mainify(Greeter)\n",
    "mainify(greeting1)\n",
    "mainify(greeting2)\n",
    "\n",
    "print(Greeter.__module__, greeting1.__module__, greeting2.__module__)\n",
    "\n",
    "g = Greeter([greeting1, greeting2])\n",
    "\n",
    "dill.dump(g, open(\"greeter.pkl\", \"wb\"))"
   ]
  },
  {
   "cell_type": "markdown",
   "metadata": {
    "ExecuteTime": {
     "end_time": "2020-11-10T12:41:14.416931Z",
     "start_time": "2020-11-10T12:41:14.411156Z"
    }
   },
   "source": [
    "And this works:"
   ]
  },
  {
   "cell_type": "markdown",
   "metadata": {},
   "source": [
    "```python\n",
    ">>> import dill\n",
    ">>> greeter = dill.load(open(\"_notebooks/greeter.pkl\", \"rb\"))\n",
    ">>> greeter.greet()\n",
    "Booyaa!\n",
    "Howdy!\n",
    "```"
   ]
  },
  {
   "cell_type": "markdown",
   "metadata": {},
   "source": [
    "## Avoid using `mainify` in `__main__`\n",
    "\n",
    "It is a bit cumbersome to `mainify` everything though, and you may wish to automate this for your users.\n",
    "\n",
    "One way of doing this is by declaring a classmethod `dillable`:"
   ]
  },
  {
   "cell_type": "markdown",
   "metadata": {},
   "source": [
    "### using `@classmethod`"
   ]
  },
  {
   "cell_type": "markdown",
   "metadata": {},
   "source": [
    "**greeter2.py**:\n",
    "```python\n",
    "class Greeting:\n",
    "    def __init__(self, greetings):\n",
    "        self.greetings = greetings\n",
    "     \n",
    "    @classmethod\n",
    "    def dillable(cls, greetings):\n",
    "        import __main__\n",
    "        for greeting in greetings:\n",
    "            cls._mainify(greeting)\n",
    "        cls._mainify(cls)\n",
    "        cls = getattr(__main__, cls.__name__)\n",
    "        greetings = [getattr(__main__, greeting.__name__) for greeting in greetings]\n",
    "        return cls(greetings)\n",
    "    \n",
    "    @staticmethod\n",
    "    def _mainify(obj):\n",
    "        \"\"\"If obj is not defined in __main__ then redefine it in \n",
    "        main so that dill will serialize the definition along with the object\"\"\"\n",
    "        if obj.__module__ != \"__main__\":\n",
    "            import __main__\n",
    "            import inspect\n",
    "            s = inspect.getsource(obj)\n",
    "            co = compile(s, '<string>', 'exec')\n",
    "            exec(co, __main__.__dict__)\n",
    "```"
   ]
  },
  {
   "cell_type": "markdown",
   "metadata": {},
   "source": [
    "Now you can import in main:"
   ]
  },
  {
   "cell_type": "code",
   "execution_count": 1,
   "metadata": {
    "ExecuteTime": {
     "end_time": "2020-11-10T12:53:05.360784Z",
     "start_time": "2020-11-10T12:53:05.340245Z"
    }
   },
   "outputs": [
    {
     "name": "stdout",
     "output_type": "stream",
     "text": [
      "Booyaa!\n",
      "Howdy!\n"
     ]
    }
   ],
   "source": [
    "import dill\n",
    "from greeter2 import Greeter, greeting1, greeting2\n",
    "\n",
    "g = Greeter.dillable([greeting1, greeting2])\n",
    "g.greet()\n",
    "\n",
    "dill.dump(g, open(\"greeter.pkl\", \"wb\"))"
   ]
  },
  {
   "cell_type": "markdown",
   "metadata": {},
   "source": [
    "### using `__new__`:"
   ]
  },
  {
   "cell_type": "markdown",
   "metadata": {},
   "source": [
    "***greeter3.py***:\n",
    "```python\n",
    "class Greeting:\n",
    "    def __init__(self, greetings):\n",
    "        self.greetings = greetings\n",
    "\n",
    "    def __new__(cls, greetings=None):         \n",
    "        import __main__\n",
    "\n",
    "        if greetings is not None:\n",
    "            cls._mainify(cls)\n",
    "            cls = getattr(__main__, cls.__name__)\n",
    "\n",
    "        obj = object.__new__(cls)\n",
    "        \n",
    "        if greetings is not None:\n",
    "            for greeting in greetings:\n",
    "                cls._mainify(greeting)\n",
    "            greetings = [getattr(__main__, greeting.__name__) for greeting in greetings]\n",
    "            obj.__init__(greetings)\n",
    "        return obj\n",
    "        \n",
    "    @staticmethod\n",
    "    def _mainify(obj):\n",
    "        \"\"\"If obj is not defined in __main__ then redefine it in \n",
    "        main so that dill will serialize the definition along with the object\"\"\"\n",
    "        if obj.__module__ != \"__main__\":\n",
    "            import __main__\n",
    "            import inspect\n",
    "            s = inspect.getsource(obj)\n",
    "            co = compile(s, '<string>', 'exec')\n",
    "            exec(co, __main__.__dict__)\n",
    "```"
   ]
  },
  {
   "cell_type": "code",
   "execution_count": 1,
   "metadata": {
    "ExecuteTime": {
     "end_time": "2020-11-10T12:51:56.439522Z",
     "start_time": "2020-11-10T12:51:56.413613Z"
    }
   },
   "outputs": [
    {
     "name": "stdout",
     "output_type": "stream",
     "text": [
      "Booyaa!\n",
      "Howdy!\n"
     ]
    }
   ],
   "source": [
    "import dill\n",
    "from greeter3 import Greeter, greeting1, greeting2\n",
    "\n",
    "g = Greeter([greeting1, greeting2])\n",
    "g.greet()\n",
    "\n",
    "dill.dump(g, open(\"greeter.pkl\", \"wb\"))"
   ]
  },
  {
   "cell_type": "markdown",
   "metadata": {},
   "source": [
    "## Conclusion:\n",
    "\n",
    "This looks hacky, and probably is, but hope it may be useful to some of you!"
   ]
  },
  {
   "cell_type": "code",
   "execution_count": null,
   "metadata": {},
   "outputs": [],
   "source": []
  }
 ],
 "metadata": {
  "kernelspec": {
   "display_name": "Python 3",
   "language": "python",
   "name": "python3"
  },
  "language_info": {
   "codemirror_mode": {
    "name": "ipython",
    "version": 3
   },
   "file_extension": ".py",
   "mimetype": "text/x-python",
   "name": "python",
   "nbconvert_exporter": "python",
   "pygments_lexer": "ipython3",
   "version": "3.8.5"
  },
  "toc": {
   "base_numbering": 1,
   "nav_menu": {},
   "number_sections": true,
   "sideBar": true,
   "skip_h1_title": false,
   "title_cell": "Table of Contents",
   "title_sidebar": "Contents",
   "toc_cell": false,
   "toc_position": {},
   "toc_section_display": true,
   "toc_window_display": false
  }
 },
 "nbformat": 4,
 "nbformat_minor": 4
}
